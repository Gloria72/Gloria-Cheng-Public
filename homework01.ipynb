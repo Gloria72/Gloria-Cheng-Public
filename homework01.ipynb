{
 "cells": [
  {
   "cell_type": "markdown",
   "metadata": {
    "id": "NH3ciI7BAHTK"
   },
   "source": [
    "# Homework 01"
   ]
  },
  {
   "cell_type": "markdown",
   "metadata": {
    "id": "KE4iSkX-AHTP"
   },
   "source": [
    "In this exercise, you will warm up / refresh your Python skills by analyzing some real data inside of a Jupyter notebook environment. You should write whatever **Python** code you like to solve these problems. You can search on the web for documentation and techniques to help you solve the problem. See especially the official [Python tutorial](https://docs.python.org/3/tutorial/) and [documentation](https://docs.python.org/3/).\n",
    "\n",
    "For grading, we will be using an autograder in [Gradescope](http://gradescope.com/). It grades based on values in specific variables or function names. Make sure to read the problem carefully to know what names to use so the autograder can correctly find your answers.\n",
    "\n",
    "When you are ready to check your answer(s), submit your assignment at [Gradescope](http://gradescope.com/)."
   ]
  },
  {
   "cell_type": "markdown",
   "metadata": {
    "id": "FAMWJsE1AHTR"
   },
   "source": [
    "## Part 1: Text\n",
    "The `text.txt` file contains the opening sentences of Charles' Dickens novel *A Tale of Two Cities*. Run the code below. It will read the file, store it in a string variable `text`, and print the first 500 characters."
   ]
  },
  {
   "cell_type": "code",
   "execution_count": 1,
   "metadata": {
    "id": "JprjPXt8AHTS",
    "outputId": "a49bbe7e-8761-4278-cb43-6758ac8c2807"
   },
   "outputs": [
    {
     "name": "stdout",
     "output_type": "stream",
     "text": [
      "it was the best of times, it was the worst of times, it was the age of wisdom, it was the age of foolishness, it was the epoch of belief, it was the epoch of incredulity, it was the season of light, it was the season of darkness, it was the spring of hope, it was the winter of despair, we had everything before us, we had nothing before us, we were all going direct to heaven, we were all going direct the other way- in short, the period was so far like the present period, that some of its noisiest ...\n"
     ]
    }
   ],
   "source": [
    "f = open('text.txt')\n",
    "text = f.read()\n",
    "f.close()\n",
    "\n",
    "print(text[:500], '...')"
   ]
  },
  {
   "cell_type": "markdown",
   "metadata": {
    "deletable": false,
    "editable": false,
    "id": "4Oej9d20AHTV"
   },
   "source": [
    "### Question 1\n",
    "In the variable `q1_1` put the first sentence of the text. In the variable `q1_2` put the last sentence of the text. You may assume sentences only end with a period (`'.'`).\n",
    "\n",
    "You may find the Python `split` method for strings to be useful: https://docs.python.org/3/library/stdtypes.html?highlight=split#str.split `sep='.'`.\n",
    "<!--\n",
    "BEGIN QUESTION\n",
    "name: q1\n",
    "manual: false\n",
    "points:\n",
    "    - 0.5\n",
    "    - 0.5\n",
    "    - 0.5\n",
    "    - 0.5\n",
    "    - 1\n",
    "    - 1\n",
    "-->"
   ]
  },
  {
   "cell_type": "code",
   "execution_count": 3,
   "metadata": {
    "id": "I_MRb-I3AHTV",
    "outputId": "0676495c-0ded-43d1-cf60-9576bd1b5f91",
    "scrolled": true
   },
   "outputs": [
    {
     "name": "stdout",
     "output_type": "stream",
     "text": [
      "it was the best of times, it was the worst of times, it was the age of wisdom, it was the age of foolishness, it was the epoch of belief, it was the epoch of incredulity, it was the season of light, it was the season of darkness, it was the spring of hope, it was the winter of despair, we had everything before us, we had nothing before us, we were all going direct to heaven, we were all going direct the other way- in short, the period was so far like the present period, that some of its noisiest authorities insisted on its being received, for good or for evil, in the superlative degree of comparison only\n",
      " thus did the year one thousand seven hundred and seventy-five conduct their greatnesses, and myriads of small creatures-the creatures of this chronicle among the rest-along the roads that lay before them\n"
     ]
    }
   ],
   "source": [
    "# Code for question 1\n",
    "q1= text.split('.')\n",
    "q1_1 = q1[0]\n",
    "q1_2 = q1[-2]\n",
    "print (q1_1)\n",
    "print (q1_2)"
   ]
  },
  {
   "cell_type": "markdown",
   "metadata": {
    "deletable": false,
    "editable": false
   },
   "source": [
    "### Question 2\n",
    "In the variable `q2` place the total number of vowels (`a`, `e`, `i`, `o`, `u`) that appear in the text.\n",
    "<!--\n",
    "BEGIN QUESTION\n",
    "name: q2\n",
    "manual: false\n",
    "points:\n",
    "    - 2.0\n",
    "    - 2.0\n",
    "-->"
   ]
  },
  {
   "cell_type": "code",
   "execution_count": 8,
   "metadata": {},
   "outputs": [
    {
     "name": "stdout",
     "output_type": "stream",
     "text": [
      "1735\n"
     ]
    }
   ],
   "source": [
    "# Code for question 2\n",
    "q2=text.count('a')+text.count('e')+text.count('i')+text.count('o')+text.count('u')\n",
    "print(q2)\n"
   ]
  },
  {
   "cell_type": "markdown",
   "metadata": {
    "deletable": false,
    "editable": false
   },
   "source": [
    "### Question 3\n",
    "A trigram is a string of exactly 3 characters (or a string with length exactly 3), including blank spaces. For example, the first five trigrams in the text are (blank substituted by underline `_` for better demonstration):\n",
    "1. `it_`\n",
    "2. `t_w`\n",
    "3. `_wa`\n",
    "4. `was`\n",
    "5. `as_`\n",
    "\n",
    "In the variable `q3_1` place the most common trigram in the text. In the variable `q3_2` place the number of times the most common trigram shows in the text.\n",
    "<!--\n",
    "BEGIN QUESTION\n",
    "name: q3\n",
    "manual: false\n",
    "points:\n",
    "    - 1.0\n",
    "    - 1.0\n",
    "    - 1.0\n",
    "    - 1.0\n",
    "-->"
   ]
  },
  {
   "cell_type": "code",
   "execution_count": 15,
   "metadata": {},
   "outputs": [
    {
     "name": "stdout",
     "output_type": "stream",
     "text": [
      " th\n",
      "136\n"
     ]
    }
   ],
   "source": [
    "# Code for question 3\n",
    "wordlist=[]\n",
    "frequency_list=[]\n",
    "for i in range(len(text)-2):\n",
    "    wordlist.append([text[i],text[i+1],text[i+2]])\n",
    "for three_words in wordlist:\n",
    "    frequency=wordlist.count(three_words)\n",
    "    frequency_list.append(frequency)\n",
    "\n",
    "\n",
    "q3_2 = max(frequency_list)\n",
    "a=frequency_list.index(q3_2)\n",
    "q3_11=wordlist[a]\n",
    "q3_1=''.join(q3_11)\n",
    "print(q3_1)\n",
    "print(q3_2)"
   ]
  },
  {
   "cell_type": "markdown",
   "metadata": {},
   "source": [
    "## Part 2: Rides\n",
    "\n",
    "The [boston.csv](boston.csv) file contains data on weekday Uber rides in the Boston, Massachusetts metropolitan areas from the [Uber Movement](https://movement.uber.com) project. The `sourceid` and `dstid` columns contain codes corresponding to start and end locations of each ride. The `hod` column contains codes corresponding to the hour of the day the ride took place. The `ride time` column contains the length of the ride, in minutes.\n",
    "\n",
    "The code below will open the file and read the data as a list of rows, with each row represented as a string. It then prints the first four rows. Note that the first (index 0) row contains the column headers."
   ]
  },
  {
   "cell_type": "code",
   "execution_count": 16,
   "metadata": {},
   "outputs": [
    {
     "name": "stdout",
     "output_type": "stream",
     "text": [
      "sourceid,dstid,hod,ride time\n",
      "\n",
      "584,33,7,11.866000000000001\n",
      "\n",
      "1013,1116,13,17.799333333333333\n",
      "\n",
      "884,1190,22,19.348833333333335\n",
      "\n"
     ]
    }
   ],
   "source": [
    "f = open('boston.csv')\n",
    "data = f.readlines()\n",
    "f.close()\n",
    "for row in data[:4]:\n",
    "    print(row)"
   ]
  },
  {
   "cell_type": "markdown",
   "metadata": {
    "deletable": false,
    "editable": false
   },
   "source": [
    "### Question 4\n",
    "In the variable `q4` place how many rides are listed in the file.\n",
    "<!--\n",
    "BEGIN QUESTION\n",
    "name: q4\n",
    "manual: false\n",
    "points:\n",
    "    - 1.0\n",
    "    - 1.0\n",
    "-->"
   ]
  },
  {
   "cell_type": "code",
   "execution_count": 19,
   "metadata": {},
   "outputs": [
    {
     "name": "stdout",
     "output_type": "stream",
     "text": [
      "200000\n"
     ]
    }
   ],
   "source": [
    "# Code for question 4\n",
    "import pandas as pd\n",
    "\n",
    "data_csv=pd.read_csv('boston.csv')\n",
    "df=pd.DataFrame(data_csv)\n",
    "df\n",
    "q4=len(df.index)\n",
    "#index函数用于检验字符串中是否包含子字符串str，如果指定了检测范围，则检查是否包含在指定范围内。\n",
    "#str.index(str, beg=0, end=len(string))str指定检索的字符串。beg开始索引，默认为0。end结束索引，默认为字符串的长度\n",
    "#返回值：含有子字符串会返回开始的索引值，否则抛出异常\n",
    "print(q4)\n"
   ]
  },
  {
   "cell_type": "markdown",
   "metadata": {
    "deletable": false,
    "editable": false
   },
   "source": [
    "### Question 5\n",
    "In the variable `q5` place the length of the longest ride.\n",
    "<!--\n",
    "BEGIN QUESTION\n",
    "name: q5\n",
    "manual: false\n",
    "points:\n",
    "    - 1.0\n",
    "    - 1.0\n",
    "-->"
   ]
  },
  {
   "cell_type": "code",
   "execution_count": 22,
   "metadata": {},
   "outputs": [
    {
     "data": {
      "text/plain": [
       "1471.9861666666666"
      ]
     },
     "execution_count": 22,
     "metadata": {},
     "output_type": "execute_result"
    }
   ],
   "source": [
    "# Code for question 5\n",
    "\n",
    "q5=df.max()['ride time']\n",
    "q5"
   ]
  },
  {
   "cell_type": "markdown",
   "metadata": {
    "deletable": false,
    "editable": false
   },
   "source": [
    "### Question 6\n",
    "In the variable `q6` place the average length of a ride.\n",
    "<!--\n",
    "BEGIN QUESTION\n",
    "name: q6\n",
    "manual: false\n",
    "points:\n",
    "    - 1.0\n",
    "    - 1.0\n",
    "-->"
   ]
  },
  {
   "cell_type": "code",
   "execution_count": 24,
   "metadata": {},
   "outputs": [
    {
     "data": {
      "text/plain": [
       "16.50247791000012"
      ]
     },
     "execution_count": 24,
     "metadata": {},
     "output_type": "execute_result"
    }
   ],
   "source": [
    "# Code for question 6\n",
    "q6 = df.mean()['ride time']\n",
    "q6"
   ]
  },
  {
   "cell_type": "markdown",
   "metadata": {
    "deletable": false,
    "editable": false
   },
   "source": [
    "### Question 7\n",
    "In the variable `q7` place the percent of rides that are under 10 minutes. The percent should be between 0 and 1.\n",
    "<!--\n",
    "BEGIN QUESTION\n",
    "name: q7\n",
    "manual: false\n",
    "points:\n",
    "    - 2.0\n",
    "    - 2.0\n",
    "-->"
   ]
  },
  {
   "cell_type": "code",
   "execution_count": 9,
   "metadata": {},
   "outputs": [
    {
     "data": {
      "text/plain": [
       "0.22829"
      ]
     },
     "execution_count": 9,
     "metadata": {},
     "output_type": "execute_result"
    }
   ],
   "source": [
    "# Code for question 7\n",
    "nu=df['ride time'][df['ride time']<10].count()\n",
    "q7=nu/q4\n",
    "q7"
   ]
  },
  {
   "cell_type": "markdown",
   "metadata": {
    "deletable": false,
    "editable": false
   },
   "source": [
    "### Question 8\n",
    "For each HOD (hour of day), count how many rides take place during that hour. Put it in a list where index 0 has the number of rides where `hod` was 0, at index 1 where `hod` was 1, etc. until index 23. This means your list will be 24 long. Put this list in a variable called `q8`.\n",
    "<!--\n",
    "BEGIN QUESTION\n",
    "name: q8\n",
    "manual: false\n",
    "points:\n",
    "    - 1.0\n",
    "    - 1.0\n",
    "    - 2.0\n",
    "-->"
   ]
  },
  {
   "cell_type": "code",
   "execution_count": 15,
   "metadata": {},
   "outputs": [
    {
     "data": {
      "text/plain": [
       "[7600,\n",
       " 6568,\n",
       " 5555,\n",
       " 4296,\n",
       " 4371,\n",
       " 5343,\n",
       " 7424,\n",
       " 9173,\n",
       " 9510,\n",
       " 9259,\n",
       " 9053,\n",
       " 8755,\n",
       " 8885,\n",
       " 8813,\n",
       " 9688,\n",
       " 9748,\n",
       " 9930,\n",
       " 9952,\n",
       " 8365,\n",
       " 8926,\n",
       " 9771,\n",
       " 9894,\n",
       " 9863,\n",
       " 9258]"
      ]
     },
     "execution_count": 15,
     "metadata": {},
     "output_type": "execute_result"
    }
   ],
   "source": [
    "# Code for question 8\n",
    "q8=[]\n",
    "for i in range(0,24):\n",
    "    data_csv=pd.read_csv('boston.csv')\n",
    "    df=pd.DataFrame(data_csv)\n",
    "    c=list(df['hod']).count(i)\n",
    "    q8.append(c)\n",
    "q8"
   ]
  },
  {
   "cell_type": "markdown",
   "metadata": {
    "deletable": false,
    "editable": false
   },
   "source": [
    "### Question 9\n",
    "What are the three most common **start** locations (`sourceid`) for rides in the dataset? You may find the built-in Python `sorted` function helpful; it's usage is described in https://docs.python.org/3/howto/sorting.html.\n",
    "\n",
    "Place your answer in the variable `q9` sorted with the most common location first.\n",
    "<!--\n",
    "BEGIN QUESTION\n",
    "name: q9\n",
    "manual: false\n",
    "points:\n",
    "    - 0.5\n",
    "    - 0.5\n",
    "    - 1.0\n",
    "    - 2.0\n",
    "-->"
   ]
  },
  {
   "cell_type": "code",
   "execution_count": 16,
   "metadata": {},
   "outputs": [
    {
     "data": {
      "text/plain": [
       "['885', '498', '435']"
      ]
     },
     "execution_count": 16,
     "metadata": {},
     "output_type": "execute_result"
    }
   ],
   "source": [
    "# Code for question 9\n",
    "\n",
    "import pandas as pd\n",
    "data_csv=pd.read_csv('boston.csv')\n",
    "df=pd.DataFrame(data_csv)\n",
    "df=df['sourceid'].value_counts(ascending=False)\n",
    "q51=df.index\n",
    "q91=q51[0:3]\n",
    "q92=q91.values.tolist()\n",
    "q9 = [str(j) for j in q92]\n",
    "q9"
   ]
  },
  {
   "cell_type": "markdown",
   "metadata": {},
   "source": [
    "## Submitting\n",
    "\n",
    "You should make sure any code that you write to answer the questions is included in this notebook. We recommend you go to the Kernel option and choose \\\"Restart & Run All.\\\" Double check that your entire notebook runs correctly and generates the expected output. Finally, make sure to save your work (timestamp at the top tells you the last checkpoint and whether there are unsaved changes). When you finish, submit your assignment at [Gradescope](http://gradescope.com/)."
   ]
  }
 ],
 "metadata": {
  "colab": {
   "collapsed_sections": [],
   "name": "practice1s.ipynb",
   "provenance": []
  },
  "kernelspec": {
   "display_name": "Python 3 (ipykernel)",
   "language": "python",
   "name": "python3"
  },
  "language_info": {
   "codemirror_mode": {
    "name": "ipython",
    "version": 3
   },
   "file_extension": ".py",
   "mimetype": "text/x-python",
   "name": "python",
   "nbconvert_exporter": "python",
   "pygments_lexer": "ipython3",
   "version": "3.9.12"
  }
 },
 "nbformat": 4,
 "nbformat_minor": 1
}
